{
 "cells": [
  {
   "cell_type": "code",
   "execution_count": null,
   "metadata": {},
   "outputs": [],
   "source": [
    "# Bismillah"
   ]
  },
  {
   "cell_type": "code",
   "execution_count": 1,
   "metadata": {},
   "outputs": [],
   "source": [
    "import numpy as np\n",
    "import pandas as pd"
   ]
  },
  {
   "cell_type": "markdown",
   "metadata": {},
   "source": [
    "# The Series\n",
    "    * A one-dimensional array\n",
    "    * Holds a single data type\n",
    "    * Allows access to elements through the associated index labels - helps in allignment of multiple series."
   ]
  },
  {
   "cell_type": "code",
   "execution_count": 3,
   "metadata": {},
   "outputs": [
    {
     "data": {
      "text/plain": [
       "array([ 0.25863153, -0.88323665, -3.29157953, -0.02342843, -1.0482435 ,\n",
       "        1.26633662, -1.08706565, -0.85082108, -1.96307176, -2.35674484,\n",
       "       -0.6234257 , -0.83283058, -1.27992862, -0.05410519, -0.35709689,\n",
       "        0.07051571,  0.53742833, -0.75499036,  1.59285131, -1.67592907,\n",
       "       -0.90514305, -0.92285635,  0.40858533,  1.44480522,  0.38585965,\n",
       "        0.49324142, -1.74075377,  0.15248052,  0.08930965,  1.45836499,\n",
       "        0.20775433,  0.21950384, -0.81329932, -0.38450555,  0.7028674 ,\n",
       "       -0.74321925,  0.77486941, -1.52147615, -0.49671237, -0.25515126,\n",
       "        3.04062016,  0.33743849,  0.29447236, -0.12944566,  0.35322455,\n",
       "       -2.24741973, -0.10760003,  0.5510596 , -0.45573766, -0.81420683,\n",
       "        0.50144188,  0.5998045 , -1.7680756 , -0.31411079,  0.97516223,\n",
       "        1.12486486,  0.62697005,  1.06894541, -0.64557351, -0.20655363,\n",
       "       -0.75915161, -0.32080443,  0.793966  ,  0.13479796, -0.04158957,\n",
       "       -0.20726923,  1.44377265,  0.77006882, -1.70785194,  1.87520023,\n",
       "       -1.29121462, -0.50946708, -0.54428726,  0.0325383 ,  0.52612022,\n",
       "        0.82188953, -2.07146754,  1.08167554, -2.50608449,  0.62201589,\n",
       "       -0.37982001,  1.0285641 ,  0.71847439, -1.17139996,  0.58756788,\n",
       "        0.72233288,  0.02936512, -0.40919534,  0.40351203,  1.7409696 ,\n",
       "       -0.97287625,  1.0692241 , -0.2756039 , -0.67039864, -0.69947977,\n",
       "       -0.49867623,  0.49113323, -1.02366508, -0.8046967 ,  0.3326125 ])"
      ]
     },
     "execution_count": 3,
     "metadata": {},
     "output_type": "execute_result"
    }
   ],
   "source": [
    "np.random.randn(100) # numpy array"
   ]
  },
  {
   "cell_type": "code",
   "execution_count": 4,
   "metadata": {},
   "outputs": [],
   "source": [
    "s = pd.Series(np.random.randn(100)) # pandas series"
   ]
  },
  {
   "cell_type": "code",
   "execution_count": 5,
   "metadata": {},
   "outputs": [
    {
     "data": {
      "text/plain": [
       "0     0.207511\n",
       "1    -0.224849\n",
       "2    -1.600827\n",
       "3     1.867959\n",
       "4    -0.354170\n",
       "        ...   \n",
       "95   -0.538381\n",
       "96    0.057374\n",
       "97    0.354976\n",
       "98   -0.263223\n",
       "99   -0.509565\n",
       "Length: 100, dtype: float64"
      ]
     },
     "execution_count": 5,
     "metadata": {},
     "output_type": "execute_result"
    }
   ],
   "source": [
    "s"
   ]
  },
  {
   "cell_type": "code",
   "execution_count": 6,
   "metadata": {},
   "outputs": [
    {
     "data": {
      "text/plain": [
       "-1.6008266853378652"
      ]
     },
     "execution_count": 6,
     "metadata": {},
     "output_type": "execute_result"
    }
   ],
   "source": [
    "s[2] # grab a value located at index 2."
   ]
  },
  {
   "cell_type": "code",
   "execution_count": null,
   "metadata": {},
   "outputs": [],
   "source": [
    "# s[2, 4] # error since no single index, 2 4, exists."
   ]
  },
  {
   "cell_type": "code",
   "execution_count": 7,
   "metadata": {},
   "outputs": [
    {
     "data": {
      "text/plain": [
       "2   -1.600827\n",
       "4   -0.354170\n",
       "dtype: float64"
      ]
     },
     "execution_count": 7,
     "metadata": {},
     "output_type": "execute_result"
    }
   ],
   "source": [
    "s[[2, 4]] # the inner [] indicates multiple indices given."
   ]
  },
  {
   "cell_type": "code",
   "execution_count": 8,
   "metadata": {},
   "outputs": [
    {
     "data": {
      "text/plain": [
       "5   -0.040802\n",
       "6    0.119325\n",
       "7   -0.509414\n",
       "8   -1.557981\n",
       "9    1.666874\n",
       "dtype: float64"
      ]
     },
     "execution_count": 8,
     "metadata": {},
     "output_type": "execute_result"
    }
   ],
   "source": [
    "s[5:10] # slicing doesn't need [] since there is no confusion."
   ]
  },
  {
   "cell_type": "code",
   "execution_count": 9,
   "metadata": {},
   "outputs": [
    {
     "data": {
      "text/plain": [
       "0    0.207511\n",
       "1   -0.224849\n",
       "2   -1.600827\n",
       "3    1.867959\n",
       "4   -0.354170\n",
       "dtype: float64"
      ]
     },
     "execution_count": 9,
     "metadata": {},
     "output_type": "execute_result"
    }
   ],
   "source": [
    "s.head()"
   ]
  },
  {
   "cell_type": "code",
   "execution_count": 10,
   "metadata": {},
   "outputs": [
    {
     "data": {
      "text/plain": [
       "95   -0.538381\n",
       "96    0.057374\n",
       "97    0.354976\n",
       "98   -0.263223\n",
       "99   -0.509565\n",
       "dtype: float64"
      ]
     },
     "execution_count": 10,
     "metadata": {},
     "output_type": "execute_result"
    }
   ],
   "source": [
    "s.tail()"
   ]
  },
  {
   "cell_type": "code",
   "execution_count": 11,
   "metadata": {},
   "outputs": [
    {
     "data": {
      "text/plain": [
       "(100,)"
      ]
     },
     "execution_count": 11,
     "metadata": {},
     "output_type": "execute_result"
    }
   ],
   "source": [
    "s.shape # 100 rows. Attribute and not method."
   ]
  },
  {
   "cell_type": "code",
   "execution_count": 12,
   "metadata": {},
   "outputs": [
    {
     "data": {
      "text/plain": [
       "RangeIndex(start=0, stop=100, step=1)"
      ]
     },
     "execution_count": 12,
     "metadata": {},
     "output_type": "execute_result"
    }
   ],
   "source": [
    "s.index # Attribute and not method."
   ]
  },
  {
   "cell_type": "code",
   "execution_count": 13,
   "metadata": {},
   "outputs": [
    {
     "data": {
      "text/plain": [
       "array([ 0.20751133, -0.22484944, -1.60082669,  1.86795933, -0.35416954,\n",
       "       -0.0408018 ,  0.11932482, -0.50941366, -1.55798143,  1.66687351,\n",
       "       -0.24737989,  0.59275618,  0.96950434, -0.44952686,  0.48177658,\n",
       "       -2.42944665, -0.77937871,  0.58340625, -0.76145974,  1.81986584,\n",
       "        1.02490539, -1.59461187,  0.18478106,  0.13025806, -2.80416904,\n",
       "       -0.44836425,  0.03934264, -0.0814312 , -0.61662057,  0.88141259,\n",
       "       -0.46638711,  1.05971927, -0.25518932, -1.07880778, -1.16586007,\n",
       "        0.10975064, -0.06179541,  0.44115874, -2.25019893, -0.86473864,\n",
       "       -0.4469348 , -2.23495266,  1.62823741, -0.16465172,  1.26269024,\n",
       "       -0.74540179,  0.32980762,  0.28923407,  1.70197663,  1.49059924,\n",
       "        0.27570596, -0.49811409, -0.27372452,  0.10480005,  0.76894273,\n",
       "       -0.09891277, -0.5324049 ,  2.13009309,  0.99500628,  0.8819713 ,\n",
       "       -2.71550154, -1.23036207, -0.62640102, -0.70163473, -0.25701348,\n",
       "        0.06260203, -0.9256956 , -0.31652755,  1.40288708,  1.3268409 ,\n",
       "       -0.42579047,  0.61358119, -0.12995779,  1.68001216,  0.3763178 ,\n",
       "       -0.93513029, -1.090324  ,  0.54855191,  1.57479867, -1.07487788,\n",
       "        0.64020941, -0.71218817,  0.15908447, -1.56594018,  0.40364664,\n",
       "       -0.41479786,  1.61273167,  0.48236666, -0.8210535 ,  1.01651558,\n",
       "        0.75898197, -0.73398049, -0.85825252,  0.98296349,  0.45826414,\n",
       "       -0.53838102,  0.05737361,  0.35497578, -0.26322293, -0.50956487])"
      ]
     },
     "execution_count": 13,
     "metadata": {},
     "output_type": "execute_result"
    }
   ],
   "source": [
    "s.values"
   ]
  },
  {
   "cell_type": "code",
   "execution_count": 14,
   "metadata": {},
   "outputs": [],
   "source": [
    "s = pd.Series([1, 2, 3, 4], index = ['a', 'b', 'c', 'd']) \n",
    "# [] to indicate multiple values as usual. Indices assigned at the time of constructing a series.\n",
    "# Series created through a list."
   ]
  },
  {
   "cell_type": "code",
   "execution_count": 15,
   "metadata": {},
   "outputs": [
    {
     "data": {
      "text/plain": [
       "a    1\n",
       "b    2\n",
       "c    3\n",
       "d    4\n",
       "dtype: int64"
      ]
     },
     "execution_count": 15,
     "metadata": {},
     "output_type": "execute_result"
    }
   ],
   "source": [
    "s"
   ]
  },
  {
   "cell_type": "code",
   "execution_count": 16,
   "metadata": {},
   "outputs": [],
   "source": [
    "s = pd.Series({'a': 1, 'b': 2, 'c': 3, 'd': 4})\n",
    "# Series created through a dictionary. The keys are the indices in the series."
   ]
  },
  {
   "cell_type": "code",
   "execution_count": 17,
   "metadata": {},
   "outputs": [
    {
     "data": {
      "text/plain": [
       "a    1\n",
       "b    2\n",
       "c    3\n",
       "d    4\n",
       "dtype: int64"
      ]
     },
     "execution_count": 17,
     "metadata": {},
     "output_type": "execute_result"
    }
   ],
   "source": [
    "s"
   ]
  },
  {
   "cell_type": "code",
   "execution_count": 18,
   "metadata": {},
   "outputs": [],
   "source": [
    "s = pd.Series([1, 2, 3, 4, np.nan])\n",
    "# np.nan so that the pandas know that this value is missing."
   ]
  },
  {
   "cell_type": "code",
   "execution_count": 19,
   "metadata": {},
   "outputs": [
    {
     "data": {
      "text/plain": [
       "0    1.0\n",
       "1    2.0\n",
       "2    3.0\n",
       "3    4.0\n",
       "4    NaN\n",
       "dtype: float64"
      ]
     },
     "execution_count": 19,
     "metadata": {},
     "output_type": "execute_result"
    }
   ],
   "source": [
    "s"
   ]
  },
  {
   "cell_type": "code",
   "execution_count": 20,
   "metadata": {},
   "outputs": [
    {
     "data": {
      "text/plain": [
       "5"
      ]
     },
     "execution_count": 20,
     "metadata": {},
     "output_type": "execute_result"
    }
   ],
   "source": [
    "len(s)\n",
    "# includes a missing avalue as well."
   ]
  },
  {
   "cell_type": "code",
   "execution_count": null,
   "metadata": {},
   "outputs": [],
   "source": [
    "s.count()\n",
    "# excludes missing value."
   ]
  },
  {
   "cell_type": "code",
   "execution_count": null,
   "metadata": {},
   "outputs": [],
   "source": [
    "s = pd.Series([10, 3 , 4, 5, 7, 7, 9, 10, np.nan])"
   ]
  },
  {
   "cell_type": "code",
   "execution_count": null,
   "metadata": {},
   "outputs": [],
   "source": [
    "s"
   ]
  },
  {
   "cell_type": "code",
   "execution_count": null,
   "metadata": {},
   "outputs": [],
   "source": [
    "s.unique()\n",
    "# returns only unique values. That is, avoid repeatition of the same value.\n",
    "# returns the missing value as well."
   ]
  },
  {
   "cell_type": "code",
   "execution_count": null,
   "metadata": {},
   "outputs": [],
   "source": [
    "s.value_counts()\n",
    "# returns frrequency distribution in descending order. For ascending order, ascending = True.\n",
    "# excludes a missing value."
   ]
  },
  {
   "cell_type": "code",
   "execution_count": null,
   "metadata": {},
   "outputs": [],
   "source": [
    "s.value_counts(ascending = True) # go from smaller values to larger values."
   ]
  },
  {
   "cell_type": "code",
   "execution_count": null,
   "metadata": {},
   "outputs": [],
   "source": [
    "s.value_counts(normalize = True) # to grab percentages. ascending = False is the default argument.\n"
   ]
  },
  {
   "cell_type": "code",
   "execution_count": null,
   "metadata": {},
   "outputs": [],
   "source": [
    "s1 = pd.Series([1, 2, 3, 4], index = ['a', 'b', 'c', 'd'])\n",
    "s2 = pd.Series([4, 3, 2, 1], index = ['d', 'c', 'b', 'a'])"
   ]
  },
  {
   "cell_type": "code",
   "execution_count": null,
   "metadata": {},
   "outputs": [],
   "source": [
    "s1 + s2\n",
    "# The allignment is done automatically on the basis of index labels.\n",
    "# This feature does not exist in numpy array. See below."
   ]
  },
  {
   "cell_type": "code",
   "execution_count": null,
   "metadata": {},
   "outputs": [],
   "source": [
    "a1 = np.array([1, 2, 3, 4])\n",
    "a2 = np.array([4, 3, 2, 1])"
   ]
  },
  {
   "cell_type": "code",
   "execution_count": null,
   "metadata": {},
   "outputs": [],
   "source": [
    "a1"
   ]
  },
  {
   "cell_type": "code",
   "execution_count": null,
   "metadata": {},
   "outputs": [],
   "source": [
    "a2"
   ]
  },
  {
   "cell_type": "code",
   "execution_count": null,
   "metadata": {},
   "outputs": [],
   "source": [
    "a1 + a2\n",
    "# each corresponding element from both the arrays must be added. No flexibility of adding any two desriable elements of\n",
    "# array located at different indices."
   ]
  }
 ],
 "metadata": {
  "kernelspec": {
   "display_name": "Python 3",
   "language": "python",
   "name": "python3"
  },
  "language_info": {
   "codemirror_mode": {
    "name": "ipython",
    "version": 3
   },
   "file_extension": ".py",
   "mimetype": "text/x-python",
   "name": "python",
   "nbconvert_exporter": "python",
   "pygments_lexer": "ipython3",
   "version": "3.8.5"
  }
 },
 "nbformat": 4,
 "nbformat_minor": 5
}
